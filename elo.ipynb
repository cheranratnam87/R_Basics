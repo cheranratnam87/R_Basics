{
 "cells": [
  {
   "cell_type": "code",
   "execution_count": 4,
   "metadata": {},
   "outputs": [
    {
     "name": "stdout",
     "output_type": "stream",
     "text": [
      "Initial Fighter Ratings:\n",
      "Fighter A: 1000\n",
      "Fighter B: 1000\n",
      "\n",
      "Updated Fighter Ratings:\n",
      "Fighter A: 1016\n",
      "Fighter B: 984\n"
     ]
    }
   ],
   "source": [
    "# Default starting rating value\n",
    "DEFAULT_RATING <- 1000\n",
    "\n",
    "# Function to calculate Elo rating adjustments\n",
    "calculate_elo <- function(winner_rating, loser_rating) {\n",
    "  # Constants for Elo calculation\n",
    "  K <- 32  # Adjust this for sensitivity (higher K means ratings change more)\n",
    "  EXPECTED_SCORE <- 1 / (1 + 10^((loser_rating - winner_rating) / 400))\n",
    "  \n",
    "  # Calculate new ratings\n",
    "  updated_winner_rating <- winner_rating + K * (1 - EXPECTED_SCORE)\n",
    "  updated_loser_rating <- loser_rating + K * (0 - (1 - EXPECTED_SCORE))\n",
    "  \n",
    "  return(list(updated_winner_rating, updated_loser_rating))\n",
    "}\n",
    "\n",
    "# Fighter data matrix (columns: name, rating)\n",
    "fighters <- data.frame(\n",
    "  name = c(\"Fighter A\", \"Fighter B\"),\n",
    "  rating = rep(DEFAULT_RATING, 2)\n",
    ")\n",
    "\n",
    "# Print initial fighter ratings\n",
    "cat(\"Initial Fighter Ratings:\\n\")\n",
    "for (i in 1:nrow(fighters)) {\n",
    "  cat(paste(fighters$name[i], \": \", fighters$rating[i], \"\\n\", sep = \"\"))\n",
    "}\n",
    "\n",
    "# Simulate a bout (Fighter A wins against Fighter B)\n",
    "winner_index <- 1  # Assume Fighter A wins (1-based index)\n",
    "loser_index <- 2   # Assume Fighter B loses (1-based index)\n",
    "\n",
    "# Get ratings before the bout\n",
    "winner_rating_before <- fighters$rating[winner_index]\n",
    "loser_rating_before <- fighters$rating[loser_index]\n",
    "\n",
    "# Calculate new ratings\n",
    "updated_ratings <- calculate_elo(winner_rating_before, loser_rating_before)\n",
    "\n",
    "# Update ratings\n",
    "fighters$rating[winner_index] <- updated_ratings[[1]]\n",
    "fighters$rating[loser_index] <- updated_ratings[[2]]\n",
    "\n",
    "# Print updated ratings\n",
    "cat(\"\\nUpdated Fighter Ratings:\\n\")\n",
    "for (i in 1:nrow(fighters)) {\n",
    "  cat(paste(fighters$name[i], \": \", fighters$rating[i], \"\\n\", sep = \"\"))\n",
    "}\n"
   ]
  },
  {
   "cell_type": "code",
   "execution_count": null,
   "metadata": {},
   "outputs": [],
   "source": []
  }
 ],
 "metadata": {
  "kernelspec": {
   "display_name": "R",
   "language": "R",
   "name": "ir"
  }
 },
 "nbformat": 4,
 "nbformat_minor": 4
}
